{
  "nbformat": 4,
  "nbformat_minor": 0,
  "metadata": {
    "colab": {
      "provenance": [],
      "mount_file_id": "1nMKHFYHHwBZWatii4aqni4RDr1xieVzz",
      "authorship_tag": "ABX9TyPRdViqOP4BhSjysqAWTDrN",
      "include_colab_link": true
    },
    "kernelspec": {
      "name": "python3",
      "display_name": "Python 3"
    },
    "language_info": {
      "name": "python"
    }
  },
  "cells": [
    {
      "cell_type": "markdown",
      "metadata": {
        "id": "view-in-github",
        "colab_type": "text"
      },
      "source": [
        "<a href=\"https://colab.research.google.com/github/dasipsita/Profanity-Checker/blob/main/Tweet_Profanity_Detection.ipynb\" target=\"_parent\"><img src=\"https://colab.research.google.com/assets/colab-badge.svg\" alt=\"Open In Colab\"/></a>"
      ]
    },
    {
      "cell_type": "markdown",
      "source": [
        "This notebook identifies profanity in tweets.\n",
        "\n",
        "1. A file with tweets is imported\n",
        "2. The tweets are then cleaned to remove noise from the tweets\n",
        "3. A list of racial slur words is imported\n",
        "4. Each tweet in the imported file is then checked for racial slur words in the list\n",
        "5. If racial slur words are found, the based on number of racial slur words contained in the tweet, a profanity score is assigned to the tweet"
      ],
      "metadata": {
        "id": "TcLfy_jmiNru"
      }
    },
    {
      "cell_type": "markdown",
      "source": [
        "# Import packages"
      ],
      "metadata": {
        "id": "XFZwPjuvkxvD"
      }
    },
    {
      "cell_type": "code",
      "source": [
        "import pandas as pd\n",
        "import re"
      ],
      "metadata": {
        "id": "cL6DK4bBktZA"
      },
      "execution_count": 1,
      "outputs": []
    },
    {
      "cell_type": "markdown",
      "source": [
        "# Calculate the degree of profanity for each tweet in a file"
      ],
      "metadata": {
        "id": "L_QXTLKfLds9"
      }
    },
    {
      "cell_type": "markdown",
      "source": [
        "## Import and clean tweets"
      ],
      "metadata": {
        "id": "PPwt6108jH52"
      }
    },
    {
      "cell_type": "markdown",
      "source": [
        "### Import tweets from file and store in pandas dataframe"
      ],
      "metadata": {
        "id": "nqcsrkCUjXEI"
      }
    },
    {
      "cell_type": "markdown",
      "source": [
        "Here a Kaggle dataset on hate speech has been used. Any other twitter-based profanity dataset can be used instead."
      ],
      "metadata": {
        "id": "Yw4P3N9qMhwq"
      }
    },
    {
      "cell_type": "code",
      "source": [
        "tweet_file = '/content/drive/MyDrive/Datasets/twitter_file.csv'   \n",
        "tweets_df = pd.read_csv(tweet_file, names=['tweets'])"
      ],
      "metadata": {
        "id": "PNtSEBUij87D"
      },
      "execution_count": 2,
      "outputs": []
    },
    {
      "cell_type": "markdown",
      "source": [
        "### Clean tweets and store in pandas dataframe"
      ],
      "metadata": {
        "id": "V9a3uY0pjctU"
      }
    },
    {
      "cell_type": "code",
      "source": [
        "# Function to clean tweets\n",
        "def clean_tweet(tweet):\n",
        "\n",
        "  if type(tweet) == float:\n",
        "    return \"\"\n",
        "\n",
        "  # Remove re-tweet tags (RT)\n",
        "  temp_tweet = re.sub(\"RT\", \" \", tweet)\n",
        "\n",
        "  # Convert tweets to lower case\n",
        "  temp_tweet = temp_tweet.lower()\n",
        "\n",
        "  # Remove hashtags and mentions from tweets\n",
        "  temp_tweet = re.sub(\"@[A-Za-z0-9_]+\",\" \", temp_tweet)\n",
        "  temp_tweet = re.sub(\"#[A-Za-z0-9_]+\",\" \", temp_tweet)\n",
        "\n",
        "  # Remove links from tweets\n",
        "  temp_tweet = re.sub(r\"http\\S+\", \" \", temp_tweet)\n",
        "  temp_tweet = re.sub(r\"www.\\S+\", \" \", temp_tweet)\n",
        "\n",
        "  # Remove punctuations\n",
        "  temp_tweet = re.sub('[()!?]', ' ', temp_tweet)\n",
        "  temp_tweet = re.sub('\[.*?\\]',' ', temp_tweet)\n",
        "\n",
        "  # Remove non-alphabatic characters\n",
        "  temp_tweet = re.sub(\"[^a-z]\",\" \", temp_tweet)\n",
        "\n",
        "  return temp_tweet"
      ],
      "metadata": {
        "id": "CyySNlQ5kKrY"
      },
      "execution_count": 4,
      "outputs": []
    },
    {
      "cell_type": "code",
      "source": [
        "tweets_df['cleaned_tweets'] = tweets_df['tweets'].apply(clean_tweet)\n",
        "tweets_df"
      ],
      "metadata": {
        "colab": {
          "base_uri": "https://localhost:8080/",
          "height": 424
        },
        "id": "2y8m3t5nmmNN",
        "outputId": "8c0b1ae8-a6dc-4651-bdd4-b47925513113"
      },
      "execution_count": 5,
      "outputs": [
        {
          "output_type": "execute_result",
          "data": {
            "text/plain": [
              "                                                  tweets  \\\n",
              "0      !!! RT @mayasolovely: As a woman you shouldn't...   \n",
              "1      !!!!! RT @mleew17: boy dats cold...tyga dwn ba...   \n",
              "2      !!!!!!! RT @UrKindOfBrand Dawg!!!! RT @80sbaby...   \n",
              "3      !!!!!!!!! RT @C_G_Anderson: @viva_based she lo...   \n",
              "4      !!!!!!!!!!!!! RT @ShenikaRoberts: The shit you...   \n",
              "...                                                  ...   \n",
              "26217  you's a muthaf***in lie &#8220;@LifeAsKing: @2...   \n",
              "26218         you've gone and broke the wrong heart baby   \n",
              "26219  young buck wanna eat!!.. dat nigguh like I ain...   \n",
              "26220              youu got wild bitches tellin you lies   \n",
              "26221  ~~Ruffled | Ntac Eileen Dahlia - Beautiful col...   \n",
              "\n",
              "                                          cleaned_tweets  \n",
              "0               as a woman you shouldn t complain abo...  \n",
              "1                 boy dats cold   tyga dwn bad for cu...  \n",
              "2                  dawg          you ever fuck a bitc...  \n",
              "3                                 she look like a tranny  \n",
              "4                         the shit you hear about me ...  \n",
              "...                                                  ...  \n",
              "26217  you s a muthaf   in lie           right  his t...  \n",
              "26218         you ve gone and broke the wrong heart baby  \n",
              "26219  young buck wanna eat     dat nigguh like i ain...  \n",
              "26220              youu got wild bitches tellin you lies  \n",
              "26221    ruffled   ntac eileen dahlia   beautiful col...  \n",
              "\n",
              "[26222 rows x 2 columns]"
            ],
            "text/html": [
              "\n",
              "  <div id=\"df-1eabf448-1e13-4438-8833-2160cebb5d96\">\n",
              "    <div class=\"colab-df-container\">\n",
              "      <div>\n",
              "<style scoped>\n",
              "    .dataframe tbody tr th:only-of-type {\n",
              "        vertical-align: middle;\n",
              "    }\n",
              "\n",
              "    .dataframe tbody tr th {\n",
              "        vertical-align: top;\n",
              "    }\n",
              "\n",
              "    .dataframe thead th {\n",
              "        text-align: right;\n",
              "    }\n",
              "</style>\n",
              "<table border=\"1\" class=\"dataframe\">\n",
              "  <thead>\n",
              "    <tr style=\"text-align: right;\">\n",
              "      <th></th>\n",
              "      <th>tweets</th>\n",
              "      <th>cleaned_tweets</th>\n",
              "    </tr>\n",
              "  </thead>\n",
              "  <tbody>\n",
              "    <tr>\n",
              "      <th>0</th>\n",
              "      <td>!!! RT @mayasolovely: As a woman you shouldn't...</td>\n",
              "      <td>as a woman you shouldn t complain abo...</td>\n",
              "    </tr>\n",
              "    <tr>\n",
              "      <th>1</th>\n",
              "      <td>!!!!! RT @mleew17: boy dats cold...tyga dwn ba...</td>\n",
              "      <td>boy dats cold   tyga dwn bad for cu...</td>\n",
              "    </tr>\n",
              "    <tr>\n",
              "      <th>2</th>\n",
              "      <td>!!!!!!! RT @UrKindOfBrand Dawg!!!! RT @80sbaby...</td>\n",
              "      <td>dawg          you ever fuck a bitc...</td>\n",
              "    </tr>\n",
              "    <tr>\n",
              "      <th>3</th>\n",
              "      <td>!!!!!!!!! RT @C_G_Anderson: @viva_based she lo...</td>\n",
              "      <td>she look like a tranny</td>\n",
              "    </tr>\n",
              "    <tr>\n",
              "      <th>4</th>\n",
              "      <td>!!!!!!!!!!!!! RT @ShenikaRoberts: The shit you...</td>\n",
              "      <td>the shit you hear about me ...</td>\n",
              "    </tr>\n",
              "    <tr>\n",
              "      <th>...</th>\n",
              "      <td>...</td>\n",
              "      <td>...</td>\n",
              "    </tr>\n",
              "    <tr>\n",
              "      <th>26217</th>\n",
              "      <td>you's a muthaf***in lie &amp;#8220;@LifeAsKing: @2...</td>\n",
              "      <td>you s a muthaf   in lie           right  his t...</td>\n",
              "    </tr>\n",
              "    <tr>\n",
              "      <th>26218</th>\n",
              "      <td>you've gone and broke the wrong heart baby</td>\n",
              "      <td>you ve gone and broke the wrong heart baby</td>\n",
              "    </tr>\n",
              "    <tr>\n",
              "      <th>26219</th>\n",
              "      <td>young buck wanna eat!!.. dat nigguh like I ain...</td>\n",
              "      <td>young buck wanna eat     dat nigguh like i ain...</td>\n",
              "    </tr>\n",
              "    <tr>\n",
              "      <th>26220</th>\n",
              "      <td>youu got wild bitches tellin you lies</td>\n",
              "      <td>youu got wild bitches tellin you lies</td>\n",
              "    </tr>\n",
              "    <tr>\n",
              "      <th>26221</th>\n",
              "      <td>~~Ruffled | Ntac Eileen Dahlia - Beautiful col...</td>\n",
              "      <td>ruffled   ntac eileen dahlia   beautiful col...</td>\n",
              "    </tr>\n",
              "  </tbody>\n",
              "</table>\n",
              "<p>26222 rows × 2 columns</p>\n",
              "</div>\n",
              "      <button class=\"colab-df-convert\" onclick=\"convertToInteractive('df-1eabf448-1e13-4438-8833-2160cebb5d96')\"\n",
              "              title=\"Convert this dataframe to an interactive table.\"\n",
              "              style=\"display:none;\">\n",
              "        \n",
              "  <svg xmlns=\"http://www.w3.org/2000/svg\" height=\"24px\"viewBox=\"0 0 24 24\"\n",
              "       width=\"24px\">\n",
              "    <path d=\"M0 0h24v24H0V0z\" fill=\"none\"/>\n",
              "    <path d=\"M18.56 5.44l.94 2.06.94-2.06 2.06-.94-2.06-.94-.94-2.06-.94 2.06-2.06.94zm-11 1L8.5 8.5l.94-2.06 2.06-.94-2.06-.94L8.5 2.5l-.94 2.06-2.06.94zm10 10l.94 2.06.94-2.06 2.06-.94-2.06-.94-.94-2.06-.94 2.06-2.06.94z\"/><path d=\"M17.41 7.96l-1.37-1.37c-.4-.4-.92-.59-1.43-.59-.52 0-1.04.2-1.43.59L10.3 9.45l-7.72 7.72c-.78.78-.78 2.05 0 2.83L4 21.41c.39.39.9.59 1.41.59.51 0 1.02-.2 1.41-.59l7.78-7.78 2.81-2.81c.8-.78.8-2.07 0-2.86zM5.41 20L4 18.59l7.72-7.72 1.47 1.35L5.41 20z\"/>\n",
              "  </svg>\n",
              "      </button>\n",
              "      \n",
              "  <style>\n",
              "    .colab-df-container {\n",
              "      display:flex;\n",
              "      flex-wrap:wrap;\n",
              "      gap: 12px;\n",
              "    }\n",
              "\n",
              "    .colab-df-convert {\n",
              "      background-color: #E8F0FE;\n",
              "      border: none;\n",
              "      border-radius: 50%;\n",
              "      cursor: pointer;\n",
              "      display: none;\n",
              "      fill: #1967D2;\n",
              "      height: 32px;\n",
              "      padding: 0 0 0 0;\n",
              "      width: 32px;\n",
              "    }\n",
              "\n",
              "    .colab-df-convert:hover {\n",
              "      background-color: #E2EBFA;\n",
              "      box-shadow: 0px 1px 2px rgba(60, 64, 67, 0.3), 0px 1px 3px 1px rgba(60, 64, 67, 0.15);\n",
              "      fill: #174EA6;\n",
              "    }\n",
              "\n",
              "    [theme=dark] .colab-df-convert {\n",
              "      background-color: #3B4455;\n",
              "      fill: #D2E3FC;\n",
              "    }\n",
              "\n",
              "    [theme=dark] .colab-df-convert:hover {\n",
              "      background-color: #434B5C;\n",
              "      box-shadow: 0px 1px 3px 1px rgba(0, 0, 0, 0.15);\n",
              "      filter: drop-shadow(0px 1px 2px rgba(0, 0, 0, 0.3));\n",
              "      fill: #FFFFFF;\n",
              "    }\n",
              "  </style>\n",
              "\n",
              "      <script>\n",
              "        const buttonEl =\n",
              "          document.querySelector('#df-1eabf448-1e13-4438-8833-2160cebb5d96 button.colab-df-convert');\n",
              "        buttonEl.style.display =\n",
              "          google.colab.kernel.accessAllowed ? 'block' : 'none';\n",
              "\n",
              "        async function convertToInteractive(key) {\n",
              "          const element = document.querySelector('#df-1eabf448-1e13-4438-8833-2160cebb5d96');\n",
              "          const dataTable =\n",
              "            await google.colab.kernel.invokeFunction('convertToInteractive',\n",
              "                                                     [key], {});\n",
              "          if (!dataTable) return;\n",
              "\n",
              "          const docLinkHtml = 'Like what you see? Visit the ' +\n",
              "            '<a target=\"_blank\" href=https://colab.research.google.com/notebooks/data_table.ipynb>data table notebook</a>'\n",
              "            + ' to learn more about interactive tables.';\n",
              "          element.innerHTML = '';\n",
              "          dataTable['output_type'] = 'display_data';\n",
              "          await google.colab.output.renderOutput(dataTable, element);\n",
              "          const docLink = document.createElement('div');\n",
              "          docLink.innerHTML = docLinkHtml;\n",
              "          element.appendChild(docLink);\n",
              "        }\n",
              "      </script>\n",
              "    </div>\n",
              "  </div>\n",
              "  "
            ]
          },
          "metadata": {},
          "execution_count": 5
        }
      ]
    },
    {
      "cell_type": "markdown",
      "source": [
        "## Tokenize tweets"
      ],
      "metadata": {
        "id": "yWjyQRaDmSxW"
      }
    },
    {
      "cell_type": "code",
      "source": [
        "# Function to tokenize tweets\n",
        "def tokenize_tweets(tweet):\n",
        "  return tweet.split()"
      ],
      "metadata": {
        "id": "W_2tzzwdmXm3"
      },
      "execution_count": 6,
      "outputs": []
    },
    {
      "cell_type": "code",
      "source": [
        "tweets_df['tweet_tokens'] = tweets_df['cleaned_tweets'].apply(tokenize_tweets)\n",
        "tweets_df"
      ],
      "metadata": {
        "colab": {
          "base_uri": "https://localhost:8080/",
          "height": 424
        },
        "id": "A5Hi7vjSmo-s",
        "outputId": "6a616e45-6ef8-4a5a-8222-a9a832aebd90"
      },
      "execution_count": 7,
      "outputs": [
        {
          "output_type": "execute_result",
          "data": {
            "text/plain": [
              "                                                  tweets  \\\n",
              "0      !!! RT @mayasolovely: As a woman you shouldn't...   \n",
              "1      !!!!! RT @mleew17: boy dats cold...tyga dwn ba...   \n",
              "2      !!!!!!! RT @UrKindOfBrand Dawg!!!! RT @80sbaby...   \n",
              "3      !!!!!!!!! RT @C_G_Anderson: @viva_based she lo...   \n",
              "4      !!!!!!!!!!!!! RT @ShenikaRoberts: The shit you...   \n",
              "...                                                  ...   \n",
              "26217  you's a muthaf***in lie &#8220;@LifeAsKing: @2...   \n",
              "26218         you've gone and broke the wrong heart baby   \n",
              "26219  young buck wanna eat!!.. dat nigguh like I ain...   \n",
              "26220              youu got wild bitches tellin you lies   \n",
              "26221  ~~Ruffled | Ntac Eileen Dahlia - Beautiful col...   \n",
              "\n",
              "                                          cleaned_tweets  \\\n",
              "0               as a woman you shouldn t complain abo...   \n",
              "1                 boy dats cold   tyga dwn bad for cu...   \n",
              "2                  dawg          you ever fuck a bitc...   \n",
              "3                                 she look like a tranny   \n",
              "4                         the shit you hear about me ...   \n",
              "...                                                  ...   \n",
              "26217  you s a muthaf   in lie           right  his t...   \n",
              "26218         you ve gone and broke the wrong heart baby   \n",
              "26219  young buck wanna eat     dat nigguh like i ain...   \n",
              "26220              youu got wild bitches tellin you lies   \n",
              "26221    ruffled   ntac eileen dahlia   beautiful col...   \n",
              "\n",
              "                                            tweet_tokens  \n",
              "0      [as, a, woman, you, shouldn, t, complain, abou...  \n",
              "1      [boy, dats, cold, tyga, dwn, bad, for, cuffin,...  \n",
              "2      [dawg, you, ever, fuck, a, bitch, and, she, st...  \n",
              "3                           [she, look, like, a, tranny]  \n",
              "4      [the, shit, you, hear, about, me, might, be, t...  \n",
              "...                                                  ...  \n",
              "26217  [you, s, a, muthaf, in, lie, right, his, tl, i...  \n",
              "26218  [you, ve, gone, and, broke, the, wrong, heart,...  \n",
              "26219  [young, buck, wanna, eat, dat, nigguh, like, i...  \n",
              "26220      [youu, got, wild, bitches, tellin, you, lies]  \n",
              "26221  [ruffled, ntac, eileen, dahlia, beautiful, col...  \n",
              "\n",
              "[26222 rows x 3 columns]"
            ],
            "text/html": [
              "\n",
              "  <div id=\"df-0b2d039c-cfa6-4acb-8f0b-083f098863d1\">\n",
              "    <div class=\"colab-df-container\">\n",
              "      <div>\n",
              "<style scoped>\n",
              "    .dataframe tbody tr th:only-of-type {\n",
              "        vertical-align: middle;\n",
              "    }\n",
              "\n",
              "    .dataframe tbody tr th {\n",
              "        vertical-align: top;\n",
              "    }\n",
              "\n",
              "    .dataframe thead th {\n",
              "        text-align: right;\n",
              "    }\n",
              "</style>\n",
              "<table border=\"1\" class=\"dataframe\">\n",
              "  <thead>\n",
              "    <tr style=\"text-align: right;\">\n",
              "      <th></th>\n",
              "      <th>tweets</th>\n",
              "      <th>cleaned_tweets</th>\n",
              "      <th>tweet_tokens</th>\n",
              "    </tr>\n",
              "  </thead>\n",
              "  <tbody>\n",
              "    <tr>\n",
              "      <th>0</th>\n",
              "      <td>!!! RT @mayasolovely: As a woman you shouldn't...</td>\n",
              "      <td>as a woman you shouldn t complain abo...</td>\n",
              "      <td>[as, a, woman, you, shouldn, t, complain, abou...</td>\n",
              "    </tr>\n",
              "    <tr>\n",
              "      <th>1</th>\n",
              "      <td>!!!!! RT @mleew17: boy dats cold...tyga dwn ba...</td>\n",
              "      <td>boy dats cold   tyga dwn bad for cu...</td>\n",
              "      <td>[boy, dats, cold, tyga, dwn, bad, for, cuffin,...</td>\n",
              "    </tr>\n",
              "    <tr>\n",
              "      <th>2</th>\n",
              "      <td>!!!!!!! RT @UrKindOfBrand Dawg!!!! RT @80sbaby...</td>\n",
              "      <td>dawg          you ever fuck a bitc...</td>\n",
              "      <td>[dawg, you, ever, fuck, a, bitch, and, she, st...</td>\n",
              "    </tr>\n",
              "    <tr>\n",
              "      <th>3</th>\n",
              "      <td>!!!!!!!!! RT @C_G_Anderson: @viva_based she lo...</td>\n",
              "      <td>she look like a tranny</td>\n",
              "      <td>[she, look, like, a, tranny]</td>\n",
              "    </tr>\n",
              "    <tr>\n",
              "      <th>4</th>\n",
              "      <td>!!!!!!!!!!!!! RT @ShenikaRoberts: The shit you...</td>\n",
              "      <td>the shit you hear about me ...</td>\n",
              "      <td>[the, shit, you, hear, about, me, might, be, t...</td>\n",
              "    </tr>\n",
              "    <tr>\n",
              "      <th>...</th>\n",
              "      <td>...</td>\n",
              "      <td>...</td>\n",
              "      <td>...</td>\n",
              "    </tr>\n",
              "    <tr>\n",
              "      <th>26217</th>\n",
              "      <td>you's a muthaf***in lie &amp;#8220;@LifeAsKing: @2...</td>\n",
              "      <td>you s a muthaf   in lie           right  his t...</td>\n",
              "      <td>[you, s, a, muthaf, in, lie, right, his, tl, i...</td>\n",
              "    </tr>\n",
              "    <tr>\n",
              "      <th>26218</th>\n",
              "      <td>you've gone and broke the wrong heart baby</td>\n",
              "      <td>you ve gone and broke the wrong heart baby</td>\n",
              "      <td>[you, ve, gone, and, broke, the, wrong, heart,...</td>\n",
              "    </tr>\n",
              "    <tr>\n",
              "      <th>26219</th>\n",
              "      <td>young buck wanna eat!!.. dat nigguh like I ain...</td>\n",
              "      <td>young buck wanna eat     dat nigguh like i ain...</td>\n",
              "      <td>[young, buck, wanna, eat, dat, nigguh, like, i...</td>\n",
              "    </tr>\n",
              "    <tr>\n",
              "      <th>26220</th>\n",
              "      <td>youu got wild bitches tellin you lies</td>\n",
              "      <td>youu got wild bitches tellin you lies</td>\n",
              "      <td>[youu, got, wild, bitches, tellin, you, lies]</td>\n",
              "    </tr>\n",
              "    <tr>\n",
              "      <th>26221</th>\n",
              "      <td>~~Ruffled | Ntac Eileen Dahlia - Beautiful col...</td>\n",
              "      <td>ruffled   ntac eileen dahlia   beautiful col...</td>\n",
              "      <td>[ruffled, ntac, eileen, dahlia, beautiful, col...</td>\n",
              "    </tr>\n",
              "  </tbody>\n",
              "</table>\n",
              "<p>26222 rows × 3 columns</p>\n",
              "</div>\n",
              "      <button class=\"colab-df-convert\" onclick=\"convertToInteractive('df-0b2d039c-cfa6-4acb-8f0b-083f098863d1')\"\n",
              "              title=\"Convert this dataframe to an interactive table.\"\n",
              "              style=\"display:none;\">\n",
              "        \n",
              "  <svg xmlns=\"http://www.w3.org/2000/svg\" height=\"24px\"viewBox=\"0 0 24 24\"\n",
              "       width=\"24px\">\n",
              "    <path d=\"M0 0h24v24H0V0z\" fill=\"none\"/>\n",
              "    <path d=\"M18.56 5.44l.94 2.06.94-2.06 2.06-.94-2.06-.94-.94-2.06-.94 2.06-2.06.94zm-11 1L8.5 8.5l.94-2.06 2.06-.94-2.06-.94L8.5 2.5l-.94 2.06-2.06.94zm10 10l.94 2.06.94-2.06 2.06-.94-2.06-.94-.94-2.06-.94 2.06-2.06.94z\"/><path d=\"M17.41 7.96l-1.37-1.37c-.4-.4-.92-.59-1.43-.59-.52 0-1.04.2-1.43.59L10.3 9.45l-7.72 7.72c-.78.78-.78 2.05 0 2.83L4 21.41c.39.39.9.59 1.41.59.51 0 1.02-.2 1.41-.59l7.78-7.78 2.81-2.81c.8-.78.8-2.07 0-2.86zM5.41 20L4 18.59l7.72-7.72 1.47 1.35L5.41 20z\"/>\n",
              "  </svg>\n",
              "      </button>\n",
              "      \n",
              "  <style>\n",
              "    .colab-df-container {\n",
              "      display:flex;\n",
              "      flex-wrap:wrap;\n",
              "      gap: 12px;\n",
              "    }\n",
              "\n",
              "    .colab-df-convert {\n",
              "      background-color: #E8F0FE;\n",
              "      border: none;\n",
              "      border-radius: 50%;\n",
              "      cursor: pointer;\n",
              "      display: none;\n",
              "      fill: #1967D2;\n",
              "      height: 32px;\n",
              "      padding: 0 0 0 0;\n",
              "      width: 32px;\n",
              "    }\n",
              "\n",
              "    .colab-df-convert:hover {\n",
              "      background-color: #E2EBFA;\n",
              "      box-shadow: 0px 1px 2px rgba(60, 64, 67, 0.3), 0px 1px 3px 1px rgba(60, 64, 67, 0.15);\n",
              "      fill: #174EA6;\n",
              "    }\n",
              "\n",
              "    [theme=dark] .colab-df-convert {\n",
              "      background-color: #3B4455;\n",
              "      fill: #D2E3FC;\n",
              "    }\n",
              "\n",
              "    [theme=dark] .colab-df-convert:hover {\n",
              "      background-color: #434B5C;\n",
              "      box-shadow: 0px 1px 3px 1px rgba(0, 0, 0, 0.15);\n",
              "      filter: drop-shadow(0px 1px 2px rgba(0, 0, 0, 0.3));\n",
              "      fill: #FFFFFF;\n",
              "    }\n",
              "  </style>\n",
              "\n",
              "      <script>\n",
              "        const buttonEl =\n",
              "          document.querySelector('#df-0b2d039c-cfa6-4acb-8f0b-083f098863d1 button.colab-df-convert');\n",
              "        buttonEl.style.display =\n",
              "          google.colab.kernel.accessAllowed ? 'block' : 'none';\n",
              "\n",
              "        async function convertToInteractive(key) {\n",
              "          const element = document.querySelector('#df-0b2d039c-cfa6-4acb-8f0b-083f098863d1');\n",
              "          const dataTable =\n",
              "            await google.colab.kernel.invokeFunction('convertToInteractive',\n",
              "                                                     [key], {});\n",
              "          if (!dataTable) return;\n",
              "\n",
              "          const docLinkHtml = 'Like what you see? Visit the ' +\n",
              "            '<a target=\"_blank\" href=https://colab.research.google.com/notebooks/data_table.ipynb>data table notebook</a>'\n",
              "            + ' to learn more about interactive tables.';\n",
              "          element.innerHTML = '';\n",
              "          dataTable['output_type'] = 'display_data';\n",
              "          await google.colab.output.renderOutput(dataTable, element);\n",
              "          const docLink = document.createElement('div');\n",
              "          docLink.innerHTML = docLinkHtml;\n",
              "          element.appendChild(docLink);\n",
              "        }\n",
              "      </script>\n",
              "    </div>\n",
              "  </div>\n",
              "  "
            ]
          },
          "metadata": {},
          "execution_count": 7
        }
      ]
    },
    {
      "cell_type": "markdown",
      "source": [
        "## Profanity Check"
      ],
      "metadata": {
        "id": "Ze14oW7_LE2h"
      }
    },
    {
      "cell_type": "markdown",
      "source": [
        "### Define Profane Words"
      ],
      "metadata": {
        "id": "IMkf-v-NVM5k"
      }
    },
    {
      "cell_type": "code",
      "source": [
        "# Defining a sample list of profanity words for testing the code\n",
        "sample_profanity_word_list = [\n",
        "    'shit',\n",
        "    'fuck',\n",
        "    'idiot',\n",
        "    'asshole',\n",
        "    'fuckall',\n",
        "    'pussy',\n",
        "    'fucking',\n",
        "    'bootlicker',\n",
        "    'slut',\n",
        "    'terrorist',\n",
        "    'prostitute',\n",
        "    'whore',\n",
        "    'slave',\n",
        "    'sucks',\n",
        "    'whitetrash',\n",
        "    'nigga',\n",
        "    'moron',\n",
        "    'negro',\n",
        "    'bitch',\n",
        "    'sissy',\n",
        "    'dawg',\n",
        "    'hoes']"
      ],
      "metadata": {
        "id": "OvvRl00cVjE7"
      },
      "execution_count": 8,
      "outputs": []
    },
    {
      "cell_type": "markdown",
      "source": [
        "### Check for profanity in each tweet"
      ],
      "metadata": {
        "id": "aysupDpBjmhT"
      }
    },
    {
      "cell_type": "markdown",
      "source": [
        "The degree of profanity is calculated based on the length of a tweet and number of racial slur words in the tweet. This gives a relative measure of the degree to which the tweet is profane. It is calculated through a profanity score metric, to keep all profanity scores between 0-1.\n",
        "\n",
        "Given a tweet and a list of racial slur words, the profanity score is calculated as:\n",
        "\n",
        "Profanity Score = Number of profane words in the tweet / Number of total words in the tweet"
      ],
      "metadata": {
        "id": "QQ-BXhURMm7J"
      }
    },
    {
      "cell_type": "code",
      "source": [
        "# Fuction to calculate degree of profanity (profanity_score) for tweets\n",
        "def get_profanity_score(tweet_tokens, profane_word_list):\n",
        "  num_tokens = len(tweet_tokens)\n",
        "  num_profane_words = 0\n",
        "  profanity_score = 0\n",
        "  for t in tweet_tokens:\n",
        "    if t in profane_word_list:\n",
        "      num_profane_words += 1\n",
        "  if num_profane_words > 0:\n",
        "    profanity_score = (num_profane_words/num_tokens)\n",
        "\n",
        "  return round(profanity_score, 2)"
      ],
      "metadata": {
        "id": "VE_oRMdniM7u"
      },
      "execution_count": 9,
      "outputs": []
    },
    {
      "cell_type": "code",
      "source": [
        "tweets_df['profanity_score'] = tweets_df['tweet_tokens'].apply(get_profanity_score, profane_word_list=sample_profanity_word_list)\n",
        "tweets_df\n"
      ],
      "metadata": {
        "colab": {
          "base_uri": "https://localhost:8080/",
          "height": 424
        },
        "id": "X9G4k1uPfnY9",
        "outputId": "b6db961b-6c86-4130-993f-55549fb167a1"
      },
      "execution_count": 10,
      "outputs": [
        {
          "output_type": "execute_result",
          "data": {
            "text/plain": [
              "                                                  tweets  \\\n",
              "0      !!! RT @mayasolovely: As a woman you shouldn't...   \n",
              "1      !!!!! RT @mleew17: boy dats cold...tyga dwn ba...   \n",
              "2      !!!!!!! RT @UrKindOfBrand Dawg!!!! RT @80sbaby...   \n",
              "3      !!!!!!!!! RT @C_G_Anderson: @viva_based she lo...   \n",
              "4      !!!!!!!!!!!!! RT @ShenikaRoberts: The shit you...   \n",
              "...                                                  ...   \n",
              "26217  you's a muthaf***in lie &#8220;@LifeAsKing: @2...   \n",
              "26218         you've gone and broke the wrong heart baby   \n",
              "26219  young buck wanna eat!!.. dat nigguh like I ain...   \n",
              "26220              youu got wild bitches tellin you lies   \n",
              "26221  ~~Ruffled | Ntac Eileen Dahlia - Beautiful col...   \n",
              "\n",
              "                                          cleaned_tweets  \\\n",
              "0               as a woman you shouldn t complain abo...   \n",
              "1                 boy dats cold   tyga dwn bad for cu...   \n",
              "2                  dawg          you ever fuck a bitc...   \n",
              "3                                 she look like a tranny   \n",
              "4                         the shit you hear about me ...   \n",
              "...                                                  ...   \n",
              "26217  you s a muthaf   in lie           right  his t...   \n",
              "26218         you ve gone and broke the wrong heart baby   \n",
              "26219  young buck wanna eat     dat nigguh like i ain...   \n",
              "26220              youu got wild bitches tellin you lies   \n",
              "26221    ruffled   ntac eileen dahlia   beautiful col...   \n",
              "\n",
              "                                            tweet_tokens  profanity_score  \n",
              "0      [as, a, woman, you, shouldn, t, complain, abou...             0.00  \n",
              "1      [boy, dats, cold, tyga, dwn, bad, for, cuffin,...             0.00  \n",
              "2      [dawg, you, ever, fuck, a, bitch, and, she, st...             0.25  \n",
              "3                           [she, look, like, a, tranny]             0.00  \n",
              "4      [the, shit, you, hear, about, me, might, be, t...             0.09  \n",
              "...                                                  ...              ...  \n",
              "26217  [you, s, a, muthaf, in, lie, right, his, tl, i...             0.00  \n",
              "26218  [you, ve, gone, and, broke, the, wrong, heart,...             0.00  \n",
              "26219  [young, buck, wanna, eat, dat, nigguh, like, i...             0.00  \n",
              "26220      [youu, got, wild, bitches, tellin, you, lies]             0.00  \n",
              "26221  [ruffled, ntac, eileen, dahlia, beautiful, col...             0.00  \n",
              "\n",
              "[26222 rows x 4 columns]"
            ],
            "text/html": [
              "\n",
              "  <div id=\"df-8586045e-163f-4225-93c0-780252fcb928\">\n",
              "    <div class=\"colab-df-container\">\n",
              "      <div>\n",
              "<style scoped>\n",
              "    .dataframe tbody tr th:only-of-type {\n",
              "        vertical-align: middle;\n",
              "    }\n",
              "\n",
              "    .dataframe tbody tr th {\n",
              "        vertical-align: top;\n",
              "    }\n",
              "\n",
              "    .dataframe thead th {\n",
              "        text-align: right;\n",
              "    }\n",
              "</style>\n",
              "<table border=\"1\" class=\"dataframe\">\n",
              "  <thead>\n",
              "    <tr style=\"text-align: right;\">\n",
              "      <th></th>\n",
              "      <th>tweets</th>\n",
              "      <th>cleaned_tweets</th>\n",
              "      <th>tweet_tokens</th>\n",
              "      <th>profanity_score</th>\n",
              "    </tr>\n",
              "  </thead>\n",
              "  <tbody>\n",
              "    <tr>\n",
              "      <th>0</th>\n",
              "      <td>!!! RT @mayasolovely: As a woman you shouldn't...</td>\n",
              "      <td>as a woman you shouldn t complain abo...</td>\n",
              "      <td>[as, a, woman, you, shouldn, t, complain, abou...</td>\n",
              "      <td>0.00</td>\n",
              "    </tr>\n",
              "    <tr>\n",
              "      <th>1</th>\n",
              "      <td>!!!!! RT @mleew17: boy dats cold...tyga dwn ba...</td>\n",
              "      <td>boy dats cold   tyga dwn bad for cu...</td>\n",
              "      <td>[boy, dats, cold, tyga, dwn, bad, for, cuffin,...</td>\n",
              "      <td>0.00</td>\n",
              "    </tr>\n",
              "    <tr>\n",
              "      <th>2</th>\n",
              "      <td>!!!!!!! RT @UrKindOfBrand Dawg!!!! RT @80sbaby...</td>\n",
              "      <td>dawg          you ever fuck a bitc...</td>\n",
              "      <td>[dawg, you, ever, fuck, a, bitch, and, she, st...</td>\n",
              "      <td>0.25</td>\n",
              "    </tr>\n",
              "    <tr>\n",
              "      <th>3</th>\n",
              "      <td>!!!!!!!!! RT @C_G_Anderson: @viva_based she lo...</td>\n",
              "      <td>she look like a tranny</td>\n",
              "      <td>[she, look, like, a, tranny]</td>\n",
              "      <td>0.00</td>\n",
              "    </tr>\n",
              "    <tr>\n",
              "      <th>4</th>\n",
              "      <td>!!!!!!!!!!!!! RT @ShenikaRoberts: The shit you...</td>\n",
              "      <td>the shit you hear about me ...</td>\n",
              "      <td>[the, shit, you, hear, about, me, might, be, t...</td>\n",
              "      <td>0.09</td>\n",
              "    </tr>\n",
              "    <tr>\n",
              "      <th>...</th>\n",
              "      <td>...</td>\n",
              "      <td>...</td>\n",
              "      <td>...</td>\n",
              "      <td>...</td>\n",
              "    </tr>\n",
              "    <tr>\n",
              "      <th>26217</th>\n",
              "      <td>you's a muthaf***in lie &amp;#8220;@LifeAsKing: @2...</td>\n",
              "      <td>you s a muthaf   in lie           right  his t...</td>\n",
              "      <td>[you, s, a, muthaf, in, lie, right, his, tl, i...</td>\n",
              "      <td>0.00</td>\n",
              "    </tr>\n",
              "    <tr>\n",
              "      <th>26218</th>\n",
              "      <td>you've gone and broke the wrong heart baby</td>\n",
              "      <td>you ve gone and broke the wrong heart baby</td>\n",
              "      <td>[you, ve, gone, and, broke, the, wrong, heart,...</td>\n",
              "      <td>0.00</td>\n",
              "    </tr>\n",
              "    <tr>\n",
              "      <th>26219</th>\n",
              "      <td>young buck wanna eat!!.. dat nigguh like I ain...</td>\n",
              "      <td>young buck wanna eat     dat nigguh like i ain...</td>\n",
              "      <td>[young, buck, wanna, eat, dat, nigguh, like, i...</td>\n",
              "      <td>0.00</td>\n",
              "    </tr>\n",
              "    <tr>\n",
              "      <th>26220</th>\n",
              "      <td>youu got wild bitches tellin you lies</td>\n",
              "      <td>youu got wild bitches tellin you lies</td>\n",
              "      <td>[youu, got, wild, bitches, tellin, you, lies]</td>\n",
              "      <td>0.00</td>\n",
              "    </tr>\n",
              "    <tr>\n",
              "      <th>26221</th>\n",
              "      <td>~~Ruffled | Ntac Eileen Dahlia - Beautiful col...</td>\n",
              "      <td>ruffled   ntac eileen dahlia   beautiful col...</td>\n",
              "      <td>[ruffled, ntac, eileen, dahlia, beautiful, col...</td>\n",
              "      <td>0.00</td>\n",
              "    </tr>\n",
              "  </tbody>\n",
              "</table>\n",
              "<p>26222 rows × 4 columns</p>\n",
              "</div>\n",
              "      <button class=\"colab-df-convert\" onclick=\"convertToInteractive('df-8586045e-163f-4225-93c0-780252fcb928')\"\n",
              "              title=\"Convert this dataframe to an interactive table.\"\n",
              "              style=\"display:none;\">\n",
              "        \n",
              "  <svg xmlns=\"http://www.w3.org/2000/svg\" height=\"24px\"viewBox=\"0 0 24 24\"\n",
              "       width=\"24px\">\n",
              "    <path d=\"M0 0h24v24H0V0z\" fill=\"none\"/>\n",
              "    <path d=\"M18.56 5.44l.94 2.06.94-2.06 2.06-.94-2.06-.94-.94-2.06-.94 2.06-2.06.94zm-11 1L8.5 8.5l.94-2.06 2.06-.94-2.06-.94L8.5 2.5l-.94 2.06-2.06.94zm10 10l.94 2.06.94-2.06 2.06-.94-2.06-.94-.94-2.06-.94 2.06-2.06.94z\"/><path d=\"M17.41 7.96l-1.37-1.37c-.4-.4-.92-.59-1.43-.59-.52 0-1.04.2-1.43.59L10.3 9.45l-7.72 7.72c-.78.78-.78 2.05 0 2.83L4 21.41c.39.39.9.59 1.41.59.51 0 1.02-.2 1.41-.59l7.78-7.78 2.81-2.81c.8-.78.8-2.07 0-2.86zM5.41 20L4 18.59l7.72-7.72 1.47 1.35L5.41 20z\"/>\n",
              "  </svg>\n",
              "      </button>\n",
              "      \n",
              "  <style>\n",
              "    .colab-df-container {\n",
              "      display:flex;\n",
              "      flex-wrap:wrap;\n",
              "      gap: 12px;\n",
              "    }\n",
              "\n",
              "    .colab-df-convert {\n",
              "      background-color: #E8F0FE;\n",
              "      border: none;\n",
              "      border-radius: 50%;\n",
              "      cursor: pointer;\n",
              "      display: none;\n",
              "      fill: #1967D2;\n",
              "      height: 32px;\n",
              "      padding: 0 0 0 0;\n",
              "      width: 32px;\n",
              "    }\n",
              "\n",
              "    .colab-df-convert:hover {\n",
              "      background-color: #E2EBFA;\n",
              "      box-shadow: 0px 1px 2px rgba(60, 64, 67, 0.3), 0px 1px 3px 1px rgba(60, 64, 67, 0.15);\n",
              "      fill: #174EA6;\n",
              "    }\n",
              "\n",
              "    [theme=dark] .colab-df-convert {\n",
              "      background-color: #3B4455;\n",
              "      fill: #D2E3FC;\n",
              "    }\n",
              "\n",
              "    [theme=dark] .colab-df-convert:hover {\n",
              "      background-color: #434B5C;\n",
              "      box-shadow: 0px 1px 3px 1px rgba(0, 0, 0, 0.15);\n",
              "      filter: drop-shadow(0px 1px 2px rgba(0, 0, 0, 0.3));\n",
              "      fill: #FFFFFF;\n",
              "    }\n",
              "  </style>\n",
              "\n",
              "      <script>\n",
              "        const buttonEl =\n",
              "          document.querySelector('#df-8586045e-163f-4225-93c0-780252fcb928 button.colab-df-convert');\n",
              "        buttonEl.style.display =\n",
              "          google.colab.kernel.accessAllowed ? 'block' : 'none';\n",
              "\n",
              "        async function convertToInteractive(key) {\n",
              "          const element = document.querySelector('#df-8586045e-163f-4225-93c0-780252fcb928');\n",
              "          const dataTable =\n",
              "            await google.colab.kernel.invokeFunction('convertToInteractive',\n",
              "                                                     [key], {});\n",
              "          if (!dataTable) return;\n",
              "\n",
              "          const docLinkHtml = 'Like what you see? Visit the ' +\n",
              "            '<a target=\"_blank\" href=https://colab.research.google.com/notebooks/data_table.ipynb>data table notebook</a>'\n",
              "            + ' to learn more about interactive tables.';\n",
              "          element.innerHTML = '';\n",
              "          dataTable['output_type'] = 'display_data';\n",
              "          await google.colab.output.renderOutput(dataTable, element);\n",
              "          const docLink = document.createElement('div');\n",
              "          docLink.innerHTML = docLinkHtml;\n",
              "          element.appendChild(docLink);\n",
              "        }\n",
              "      </script>\n",
              "    </div>\n",
              "  </div>\n",
              "  "
            ]
          },
          "metadata": {},
          "execution_count": 10
        }
      ]
    },
    {
      "cell_type": "markdown",
      "source": [
        "# Calculate the degree of profanity for a single input tweet"
      ],
      "metadata": {
        "id": "dAfjQ6NgLxNE"
      }
    },
    {
      "cell_type": "markdown",
      "source": [
        "## Define pipeline for extracting degree of profanity for input tweet"
      ],
      "metadata": {
        "id": "xIPTlGdTK0Qa"
      }
    },
    {
      "cell_type": "code",
      "source": [
        "# Function to check profanity score for given input \n",
        "def profanity_score_pipeline(sample_tweet):\n",
        "  cleaned_sample_tweet = clean_tweet(sample_tweet) # Clean tweet\n",
        "  sample_tweet_token = tokenize_tweets(cleaned_sample_tweet) # Tokenize tweet\n",
        "  score = get_profanity_score(sample_tweet_token, sample_profanity_word_list) # Get profanity score for tweet\n",
        "  return score  "
      ],
      "metadata": {
        "id": "RnorRaAnIjCr"
      },
      "execution_count": 11,
      "outputs": []
    },
    {
      "cell_type": "markdown",
      "source": [
        "## Input tweet and print profanity score"
      ],
      "metadata": {
        "id": "yB6dsWmFLB1K"
      }
    },
    {
      "cell_type": "code",
      "source": [
        "sample_tweet = input('Enter a sample tweet: ')\n",
        "profanity_score = profanity_score_pipeline(sample_tweet)\n",
        "print('Profanity score for given sample tweet is:', profanity_score)"
      ],
      "metadata": {
        "colab": {
          "base_uri": "https://localhost:8080/"
        },
        "id": "cMKyVeU3YuLv",
        "outputId": "c5ee7ed4-54f0-4a17-bd81-24b773c13171"
      },
      "execution_count": 13,
      "outputs": [
        {
          "output_type": "stream",
          "name": "stdout",
          "text": [
            "Enter a sample tweet: RT: @fuck you are a 69 fuck bitch #56\n",
            "Profanity score for given sample tweet is: 0.4\n"
          ]
        }
      ]
    }
  ]
}
